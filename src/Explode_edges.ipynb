{
 "cells": [
  {
   "cell_type": "code",
   "execution_count": 77,
   "metadata": {},
   "outputs": [],
   "source": [
    "import os\n",
    "import time\n",
    "import pandas as pd\n",
    "import numpy as np\n",
    "from multiprocessing import Pool\n",
    "import boto3"
   ]
  },
  {
   "cell_type": "code",
   "execution_count": 78,
   "metadata": {},
   "outputs": [],
   "source": [
    "s3 = boto3.resource('s3')\n",
    "client = boto3.client('s3')"
   ]
  },
  {
   "cell_type": "code",
   "execution_count": 79,
   "metadata": {},
   "outputs": [
    {
     "data": {
      "text/plain": [
       "3110"
      ]
     },
     "execution_count": 79,
     "metadata": {},
     "output_type": "execute_result"
    }
   ],
   "source": [
    "edges_csv = os.listdir('/home/ec2-user/osm/edges/')\n",
    "n_csvs = len(edges_csv)\n",
    "edges_csv[0]\n",
    "n_csvs"
   ]
  },
  {
   "cell_type": "code",
   "execution_count": 80,
   "metadata": {},
   "outputs": [],
   "source": [
    "def processCSVs(n):\n",
    "    edges = pd.read_csv('/home/ec2-user/osm/edges/'+edges_csv[n], low_memory=False)\n",
    "    # number of edges\n",
    "    nedges = edges.geometry.size\n",
    "    # get longitude/latitude dataFrame for edges\n",
    "    df_edge_loc = pd.DataFrame()\n",
    "    print('Creating exploded dataframe for '+edges_csv[n].replace('.csv',''))\n",
    "    for i in range(0, nedges):\n",
    "        edge_string = edges['geometry'][i][12:-1].split(\",\")\n",
    "        tmp = []\n",
    "        for j in range(0, len(edge_string)):\n",
    "            edge_array = np.fromstring(edge_string[j], sep=' ')\n",
    "            edge_array = np.flip(edge_array,axis=0)\n",
    "            tmp.append(edge_array)\n",
    "            tmp2 = np.concatenate(tmp)\n",
    "            dftmp = pd.DataFrame(tmp2)\n",
    "        df_edge_loc = pd.concat([df_edge_loc, dftmp], axis=1, ignore_index=True)\n",
    "    path = '/home/ec2-user/osm/edges_exploded/'+edges_csv[n].replace('.csv','_exploded.csv')\n",
    "    df_edge_loc.to_csv(path)\n",
    "    del df_edge_loc\n",
    "    # write CSV to s3\n",
    "    s3.meta.client.upload_file(path, 'usa-edges-for-speed-mapping', 'edges_exploded/{}'.format(edges_csv[n].replace('.csv','_exploded.csv')))\n",
    "    print('Saved '+path+' to S3.')    \n",
    "    s3dir = client.list_objects(Bucket='usa-edges-for-speed-mapping',\n",
    "                Prefix='edges_exploded/')\n",
    "    # remove CSV from local EC2 instance.\n",
    "    os.remove(path)\n",
    "    s3dir = client.list_objects(Bucket='usa-edges-for-speed-mapping',\n",
    "                Prefix='edges_exploded/')\n",
    "    print((len(s3dir['Contents']) - 1)/len(edges_csv)*100, 'percent complete.')\n",
    "\n",
    "    \n",
    "    \n",
    "    \n"
   ]
  },
  {
   "cell_type": "code",
   "execution_count": null,
   "metadata": {
    "scrolled": false
   },
   "outputs": [
    {
     "name": "stdout",
     "output_type": "stream",
     "text": [
      "Creating exploded dataframe for MS_IssaquenaCounty\n",
      "Creating exploded dataframe for VA_FallsChurchcity\n",
      "Creating exploded dataframe for ND_RenvilleCounty\n",
      "Creating exploded dataframe for NC_JonesCounty\n",
      "Creating exploded dataframe for MS_FranklinCounty\n",
      "Creating exploded dataframe for IL_MoultrieCounty\n",
      "Creating exploded dataframe for SD_AuroraCounty\n",
      "Creating exploded dataframe for WV_TuckerCounty\n",
      "Creating exploded dataframe for TX_GoliadCounty\n",
      "Creating exploded dataframe for KS_JacksonCounty\n",
      "Creating exploded dataframe for IA_DelawareCounty\n",
      "Creating exploded dataframe for MS_ScottCounty\n",
      "Creating exploded dataframe for ND_LaMoureCounty\n",
      "Creating exploded dataframe for MS_LeakeCounty\n",
      "Creating exploded dataframe for IA_UnionCounty\n",
      "Creating exploded dataframe for OR_WashingtonCounty\n",
      "Creating exploded dataframe for SD_McPhersonCounty\n",
      "Creating exploded dataframe for MN_PipestoneCounty\n",
      "Creating exploded dataframe for GA_GradyCounty\n",
      "Creating exploded dataframe for GA_WorthCounty\n",
      "Creating exploded dataframe for KS_EllsworthCounty\n",
      "Creating exploded dataframe for MO_GrundyCounty\n",
      "Creating exploded dataframe for KY_SimpsonCounty\n",
      "Creating exploded dataframe for MI_CharlevoixCounty\n",
      "Creating exploded dataframe for CO_CostillaCounty\n",
      "Creating exploded dataframe for OH_MonroeCounty\n",
      "Creating exploded dataframe for NC_WarrenCounty\n",
      "Creating exploded dataframe for IL_JohnsonCounty\n",
      "Creating exploded dataframe for MI_ClareCounty\n",
      "Creating exploded dataframe for GA_GordonCounty\n",
      "Creating exploded dataframe for IA_ClintonCounty\n",
      "Creating exploded dataframe for WI_WashburnCounty\n",
      "Creating exploded dataframe for CleburneCounty_AL\n",
      "Creating exploded dataframe for CO_MontroseCounty\n",
      "Creating exploded dataframe for CA_SanBenitoCounty\n",
      "Creating exploded dataframe for VT_AddisonCounty\n",
      "Creating exploded dataframe for MN_PineCounty\n",
      "Creating exploded dataframe for CO_GrandCounty\n",
      "Creating exploded dataframe for ND_StutsmanCounty\n",
      "Creating exploded dataframe for PickensCounty_AL\n",
      "Creating exploded dataframe for ND_MountrailCounty\n",
      "Creating exploded dataframe for OK_WashitaCounty\n",
      "Creating exploded dataframe for NY_SchenectadyCounty\n",
      "Creating exploded dataframe for IN_KosciuskoCounty\n",
      "Creating exploded dataframe for MI_VanBurenCounty\n",
      "Creating exploded dataframe for FL_FlaglerCounty\n",
      "Creating exploded dataframe for OH_ClarkCounty\n",
      "Creating exploded dataframe for TX_LlanoCounty\n",
      "Creating exploded dataframe for NY_OswegoCounty\n",
      "Creating exploded dataframe for SC_GeorgetownCounty\n",
      "Creating exploded dataframe for WalkerCounty_AL\n",
      "Creating exploded dataframe for SC_BeaufortCounty\n",
      "Creating exploded dataframe for IL_PeoriaCounty\n",
      "Creating exploded dataframe for TX_GraysonCounty\n",
      "Creating exploded dataframe for NH_GraftonCounty\n",
      "Creating exploded dataframe for OH_MahoningCounty\n",
      "Creating exploded dataframe for NJ_AtlanticCounty\n",
      "Creating exploded dataframe for LA_EastBatonRougeParish\n",
      "Creating exploded dataframe for TX_HuntCounty\n",
      "Creating exploded dataframe for PA_AlleghenyCounty\n",
      "Saved /home/ec2-user/osm/edges_exploded/VA_FallsChurchcity_exploded.csv to S3.\n",
      "Saved /home/ec2-user/osm/edges_exploded/MS_IssaquenaCounty_exploded.csv to S3.\n",
      "0.09646302250803858 percent complete.\n",
      "0.12861736334405144 percent complete.\n",
      "Creating exploded dataframe for TN_FentressCounty\n",
      "Creating exploded dataframe for CO_GarfieldCounty\n",
      "Saved /home/ec2-user/osm/edges_exploded/ND_RenvilleCounty_exploded.csv to S3.\n",
      "0.1607717041800643 percent complete.\n",
      "Creating exploded dataframe for TX_CrockettCounty\n",
      "Saved /home/ec2-user/osm/edges_exploded/IL_MoultrieCounty_exploded.csv to S3.\n",
      "0.19292604501607716 percent complete.\n",
      "Creating exploded dataframe for MI_MissaukeeCounty\n",
      "Saved /home/ec2-user/osm/edges_exploded/SD_AuroraCounty_exploded.csv to S3.\n",
      "0.22508038585209003 percent complete.\n",
      "Creating exploded dataframe for IN_ClintonCounty\n",
      "Saved /home/ec2-user/osm/edges_exploded/MN_PipestoneCounty_exploded.csv to S3.\n",
      "0.2572347266881029 percent complete.\n",
      "Creating exploded dataframe for VT_EssexCounty\n",
      "Saved /home/ec2-user/osm/edges_exploded/TX_GoliadCounty_exploded.csv to S3.\n",
      "0.28938906752411575 percent complete.\n",
      "Creating exploded dataframe for MS_ItawambaCounty\n",
      "Saved /home/ec2-user/osm/edges_exploded/NC_JonesCounty_exploded.csv to S3.\n",
      "0.3215434083601286 percent complete.\n",
      "Creating exploded dataframe for TX_RainsCounty\n",
      "Saved /home/ec2-user/osm/edges_exploded/TX_RainsCounty_exploded.csv to S3.\n",
      "0.3536977491961415 percent complete.\n",
      "Creating exploded dataframe for IN_VigoCounty\n",
      "Saved /home/ec2-user/osm/edges_exploded/IA_UnionCounty_exploded.csv to S3.\n",
      "0.3858520900321543 percent complete.\n",
      "Creating exploded dataframe for KS_GreenwoodCounty\n",
      "Saved /home/ec2-user/osm/edges_exploded/IA_DelawareCounty_exploded.csv to S3.\n",
      "0.4180064308681672 percent complete.\n",
      "Creating exploded dataframe for IN_NewtonCounty\n",
      "Saved /home/ec2-user/osm/edges_exploded/MS_FranklinCounty_exploded.csv to S3.\n",
      "0.45016077170418006 percent complete.\n",
      "Creating exploded dataframe for SC_AndersonCounty\n",
      "Saved /home/ec2-user/osm/edges_exploded/WV_TuckerCounty_exploded.csv to S3.\n",
      "0.45016077170418006 percent complete.\n",
      "Creating exploded dataframe for KY_MarshallCounty\n",
      "Saved /home/ec2-user/osm/edges_exploded/KS_JacksonCounty_exploded.csv to S3.\n",
      "0.482315112540193 percent complete.\n",
      "Creating exploded dataframe for NV_CarsonCity\n",
      "Saved /home/ec2-user/osm/edges_exploded/IN_ClintonCounty_exploded.csv to S3.\n",
      "0.5144694533762058 percent complete.\n",
      "Creating exploded dataframe for TX_ReevesCounty\n",
      "Saved /home/ec2-user/osm/edges_exploded/OR_WashingtonCounty_exploded.csv to S3.\n",
      "0.5466237942122186 percent complete.\n",
      "Creating exploded dataframe for NE_PhelpsCounty\n",
      "Saved /home/ec2-user/osm/edges_exploded/GA_WorthCounty_exploded.csv to S3.\n",
      "0.5787781350482315 percent complete.\n",
      "Saved /home/ec2-user/osm/edges_exploded/GA_GradyCounty_exploded.csv to S3.\n",
      "0.6109324758842444 percent complete.\n",
      "Creating exploded dataframe for VT_GrandIsleCounty\n",
      "Creating exploded dataframe for LA_CaddoParish\n",
      "Saved /home/ec2-user/osm/edges_exploded/MS_ScottCounty_exploded.csv to S3.\n",
      "0.6430868167202572 percent complete.\n",
      "Creating exploded dataframe for TX_RuskCounty\n",
      "Saved /home/ec2-user/osm/edges_exploded/MI_MissaukeeCounty_exploded.csv to S3.\n",
      "0.67524115755627 percent complete.\n",
      "Creating exploded dataframe for TX_GillespieCounty\n",
      "Saved /home/ec2-user/osm/edges_exploded/IN_NewtonCounty_exploded.csv to S3.\n",
      "Saved /home/ec2-user/osm/edges_exploded/ND_LaMoureCounty_exploded.csv to S3.\n",
      "0.7395498392282959 percent complete.\n",
      "0.7395498392282959 percent complete.\n",
      "Creating exploded dataframe for WV_HampshireCounty\n",
      "Creating exploded dataframe for NC_OrangeCounty\n",
      "Saved /home/ec2-user/osm/edges_exploded/MS_LeakeCounty_exploded.csv to S3.\n",
      "0.7717041800643086 percent complete.\n",
      "Creating exploded dataframe for WV_MarionCounty\n",
      "Saved /home/ec2-user/osm/edges_exploded/MI_CharlevoixCounty_exploded.csv to S3.\n",
      "0.8038585209003215 percent complete.\n",
      "Creating exploded dataframe for OH_SummitCounty\n",
      "Saved /home/ec2-user/osm/edges_exploded/VT_GrandIsleCounty_exploded.csv to S3.\n",
      "0.8360128617363344 percent complete.\n",
      "Creating exploded dataframe for TX_LambCounty\n",
      "Saved /home/ec2-user/osm/edges_exploded/SD_McPhersonCounty_exploded.csv to S3.\n",
      "0.8681672025723474 percent complete.\n",
      "Creating exploded dataframe for KS_MarionCounty\n",
      "Saved /home/ec2-user/osm/edges_exploded/MO_GrundyCounty_exploded.csv to S3.\n",
      "0.9003215434083601 percent complete.\n",
      "Creating exploded dataframe for NM_LunaCounty\n",
      "Saved /home/ec2-user/osm/edges_exploded/IL_JohnsonCounty_exploded.csv to S3.\n",
      "0.932475884244373 percent complete.\n",
      "Creating exploded dataframe for MA_NorfolkCounty\n",
      "Saved /home/ec2-user/osm/edges_exploded/KY_SimpsonCounty_exploded.csv to S3.\n",
      "0.964630225080386 percent complete.\n",
      "Creating exploded dataframe for NE_ThomasCounty\n",
      "Saved /home/ec2-user/osm/edges_exploded/NC_WarrenCounty_exploded.csv to S3.\n",
      "0.9967845659163986 percent complete.\n",
      "Creating exploded dataframe for FL_LevyCounty\n",
      "Saved /home/ec2-user/osm/edges_exploded/TN_FentressCounty_exploded.csv to S3.\n",
      "1.0289389067524115 percent complete.\n",
      "Creating exploded dataframe for TX_GrimesCounty\n"
     ]
    }
   ],
   "source": [
    "t0 = time.time();\n",
    "if __name__ == '__main__':\n",
    "    with Pool(processes=60) as p:\n",
    "        p.map(processCSVs, range(0,n_csvs))\n",
    "print(time.time() - t0)"
   ]
  },
  {
   "cell_type": "code",
   "execution_count": 13,
   "metadata": {},
   "outputs": [
    {
     "name": "stdout",
     "output_type": "stream",
     "text": [
      "Creating exploded dataframe for WV_TuckerCounty\n",
      "Saved /home/ec2-user/osm/edges_exploded/WV_TuckerCounty_exploded.csv\n",
      "0.0  percent complete.\n",
      "Creating exploded dataframe for KY_MarshallCounty\n",
      "Saved /home/ec2-user/osm/edges_exploded/KY_MarshallCounty_exploded.csv\n",
      "0.03215434083601286  percent complete.\n",
      "Serial process took  124.81829786300659  seconds\n"
     ]
    }
   ],
   "source": [
    "# Test parallelization speed up of CSV processing...\n",
    "\n",
    "# Serial Test:\n",
    "\n",
    "t0 = time.time();\n",
    "for n in range(0,2):\n",
    "    processCSVs(n)\n",
    "print('Serial process took ',time.time() - t0, ' seconds')"
   ]
  },
  {
   "cell_type": "code",
   "execution_count": 3,
   "metadata": {},
   "outputs": [
    {
     "data": {
      "text/plain": [
       "64"
      ]
     },
     "execution_count": 3,
     "metadata": {},
     "output_type": "execute_result"
    }
   ],
   "source": [
    "os.cpu_count()"
   ]
  }
 ],
 "metadata": {
  "kernelspec": {
   "display_name": "Python 3",
   "language": "python",
   "name": "python3"
  },
  "language_info": {
   "codemirror_mode": {
    "name": "ipython",
    "version": 3
   },
   "file_extension": ".py",
   "mimetype": "text/x-python",
   "name": "python",
   "nbconvert_exporter": "python",
   "pygments_lexer": "ipython3",
   "version": "3.6.5"
  }
 },
 "nbformat": 4,
 "nbformat_minor": 2
}

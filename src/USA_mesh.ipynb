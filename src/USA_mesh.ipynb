{
 "cells": [
  {
   "cell_type": "markdown",
   "metadata": {},
   "source": [
    "# Create Edge .CSV's per USA County"
   ]
  },
  {
   "cell_type": "code",
   "execution_count": null,
   "metadata": {},
   "outputs": [],
   "source": [
    "import osmnx as ox\n",
    "import networkx as nx\n",
    "import matplotlib.pyplot as plt\n",
    "import pandas as pd\n",
    "import numpy as np\n",
    "import geopandas as gpd\n",
    "\n",
    "#pd.set_option('display.max_rows', 3500)\n"
   ]
  },
  {
   "cell_type": "markdown",
   "metadata": {},
   "source": [
    "### Read in county names from 2010 USA census data (https://www.census.gov/geo/reference/codes/cou.html)."
   ]
  },
  {
   "cell_type": "code",
   "execution_count": null,
   "metadata": {},
   "outputs": [],
   "source": [
    "counties_raw = pd.read_table('../inputData/national_counties.txt',header=None)\n",
    "counties_raw.rename(columns={0:'State, County'})\n",
    "tmp0 = []\n",
    "tmp1 = []\n",
    "for i in range(0,len(counties_raw)):\n",
    "    tmp0.append(counties_raw.iloc[i,0][10:-3])\n",
    "    tmp1.append(counties_raw.iloc[i,0][:2])\n",
    "counties = pd.DataFrame.from_dict(tmp0)\n",
    "states = pd.DataFrame.from_dict(tmp1)\n",
    "\n",
    "counties.rename(columns={0:'County'})\n",
    "states.rename(columns={0:'State'})\n",
    "\n",
    "counties = counties[states!='AS'].dropna()\n",
    "counties = counties[states!='AK'].dropna()\n",
    "counties = counties[states!='GU'].dropna()\n",
    "counties = counties[states!='MP'].dropna()\n",
    "counties = counties[states!='PR'].dropna()\n",
    "counties = counties[states!='VI'].dropna()\n",
    "counties = counties[states!='UM'].dropna()\n",
    "counties = counties.reset_index()\n",
    "\n",
    "#Baltimore needs city --> county:\n",
    "counties[0][1187] = counties[0][1187].replace('city','County')\n",
    "counties[0][1568] = counties[0][1568].replace(' city','')\n",
    "#Charlotsville city needs --> Charlostville\n",
    "counties[0][2890] = counties[0][2890].replace(' city','')\n",
    "counties[0][2896] = counties[0][2896].replace('city','County')\n",
    "counties[0][2902] = counties[0][2902].replace(' city','')\n",
    "counties[0][2905] = counties[0][2905].replace(' city','')\n",
    "counties[0][2906] = counties[0][2906].replace(' city','')\n",
    "counties[0][2914] = counties[0][2914].replace(' city','')\n",
    "counties[0][2917] = counties[0][2917].replace(' city','')\n",
    "counties[0][2920] = counties[0][2920].replace(' city','')\n",
    "counties[0][2921] = counties[0][2921].replace(' city','')\n",
    "counties[0][2922] = counties[0][2922].replace(' city','')\n",
    "counties[0][2923] = counties[0][2923].replace('city','County')\n",
    "\n",
    "\n",
    "\n",
    "#MISSING BEAUFORT COUNTY, NC\n",
    "#MISSING ACCOMACK COUNTY, VA\n",
    "#INCOMPLETE BEAUFORT COUNTY, SC\n",
    "\n",
    "\n",
    "states = states[states!='AS'].dropna()\n",
    "states = states[states!='AK'].dropna()\n",
    "states = states[states!='GU'].dropna()\n",
    "states = states[states!='MP'].dropna()\n",
    "states = states[states!='PR'].dropna()\n",
    "states = states[states!='VI'].dropna()\n",
    "states = states[states!='UM'].dropna()\n",
    "states = states.reset_index()\n",
    "\n",
    "#Hennepin County needs MN --> Minnesota:\n",
    "states[0][1311] = states[0][1311].replace('MN','Minnesota')\n",
    "\n",
    "\n",
    "counties\n",
    "#states"
   ]
  },
  {
   "cell_type": "markdown",
   "metadata": {},
   "source": [
    "### Loop through counties to get OSMnx graphs, get edges and save to .csv"
   ]
  },
  {
   "cell_type": "code",
   "execution_count": null,
   "metadata": {},
   "outputs": [],
   "source": [
    "for i in range(2923, len(counties)):\n",
    "    # name of county:\n",
    "    place_name = counties[0][i] + ', ' + states[0][i]\n",
    "    # map network:\n",
    "    print('obtaining graph for '+place_name+'...')\n",
    "    graph = ox.graph_from_place(place_name, network_type='drive')\n",
    "    # street network:\n",
    "    edges = ox.graph_to_gdfs(graph, nodes=False, edges=True)\n",
    "    # write path:\n",
    "    path = '/Users/samtaimourzadeh/python/dev/osm/edges/' + states[0][i]+'_'+counties[0][i]+'.csv'\n",
    "    path = path.replace(' ','')\n",
    "    # write to csv:\n",
    "    edges.to_csv(path)\n",
    "    print('saved ' + path)\n",
    "    print(i/len(counties)*100, ' percent complete.')"
   ]
  },
  {
   "cell_type": "markdown",
   "metadata": {},
   "source": [
    "## Explode edge .csv's into edge_exploded directory"
   ]
  },
  {
   "cell_type": "code",
   "execution_count": null,
   "metadata": {},
   "outputs": [],
   "source": [
    "import os"
   ]
  },
  {
   "cell_type": "code",
   "execution_count": 6,
   "metadata": {},
   "outputs": [
    {
     "data": {
      "text/plain": [
       "'KS_GreeleyCounty.csv'"
      ]
     },
     "execution_count": 6,
     "metadata": {},
     "output_type": "execute_result"
    }
   ],
   "source": [
    "edges_csv = os.listdir('../edges')\n",
    "len(edges_csv)\n",
    "edges_csv[0]"
   ]
  },
  {
   "cell_type": "code",
   "execution_count": null,
   "metadata": {},
   "outputs": [],
   "source": [
    "for n in range(0, len(edges_csv)):\n",
    "    edges = pd.read_csv('../edges/'+edges_csv[n], low_memory=False)\n",
    "    # number of edges\n",
    "    nedges = edges.geometry.size\n",
    "    # get longitude/latitude dataFrame for edges\n",
    "    df_edge_loc = pd.DataFrame()\n",
    "    print('Creating exploded dataframe for '+edges_csv[n].replace('.csv',''))\n",
    "    for i in range(0, nedges):\n",
    "        edge_string = edges['geometry'][i][12:-1].split(\",\")\n",
    "        tmp = []\n",
    "        for j in range(0, len(edge_string)):\n",
    "            edge_array = np.fromstring(edge_string[j], sep=' ')\n",
    "            edge_array = np.flip(edge_array)\n",
    "            tmp.append(edge_array)\n",
    "            tmp2 = np.concatenate(tmp)\n",
    "            dftmp = pd.DataFrame(tmp2)\n",
    "        df_edge_loc = pd.concat([df_edge_loc, dftmp], axis=1, ignore_index=True)\n",
    "    path = '../edges_exploded/'+edges_csv[n].replace('.csv','_exploded.csv')\n",
    "    df_edge_loc.to_csv(path)\n",
    "    del df_edge_loc\n",
    "    print('Saved '+path)\n",
    "    print(100*n/len(edges_csv),' percent complete.')"
   ]
  },
  {
   "cell_type": "code",
   "execution_count": null,
   "metadata": {},
   "outputs": [],
   "source": [
    "#MO_HoltCounty Error: /anaconda3/envs/osm/lib/python3.7/site-packages/IPython/core/interactiveshell.py:2785:\n",
    "#DtypeWarning: Columns (14,17) have mixed types. Specify dtype option on import or set low_memory=\n",
    "#False.interactivity=interactivity, compiler=compiler, result=result)"
   ]
  }
 ],
 "metadata": {
  "kernelspec": {
   "display_name": "Python 3",
   "language": "python",
   "name": "python3"
  },
  "language_info": {
   "codemirror_mode": {
    "name": "ipython",
    "version": 3
   },
   "file_extension": ".py",
   "mimetype": "text/x-python",
   "name": "python",
   "nbconvert_exporter": "python",
   "pygments_lexer": "ipython3",
   "version": "3.7.0"
  }
 },
 "nbformat": 4,
 "nbformat_minor": 2
}
